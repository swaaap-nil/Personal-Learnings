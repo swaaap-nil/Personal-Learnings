{
 "cells": [
  {
   "cell_type": "markdown",
   "id": "501d29ec",
   "metadata": {},
   "source": [
    "# Root zone soil moisture (0-100 cm)"
   ]
  },
  {
   "cell_type": "code",
   "execution_count": 9,
   "id": "d6010482",
   "metadata": {
    "tags": []
   },
   "outputs": [],
   "source": [
    "#|export\n",
    "import h5py\n",
    "import numpy as np\n",
    "FILE_NAME = '/Users/swapnil/Desktop/API/DATASET/rootzone_soil_moisture/SMAP_L4_SM_gph_20231026T013000_Vv7030_001.h5'\n",
    "    \n",
    "f= h5py.File(FILE_NAME,mode='r')\n",
    "\n",
    "name = '/Geophysical_Data/sm_rootzone'\n",
    "data = f[name][:]\n",
    "units = f[name].attrs['units']\n",
    "units = units.decode('ascii', 'replace')\n",
    "long_name = f[name].attrs['long_name']\n",
    "long_name = long_name.decode('ascii', 'replace')\n",
    "_FillValue = f[name].attrs['_FillValue']\n",
    "valid_max = f[name].attrs['valid_max']\n",
    "valid_min = f[name].attrs['valid_min']        \n",
    "invalid = np.logical_or(data > valid_max,\n",
    "                            data < valid_min)\n",
    "invalid = np.logical_or(invalid, data == _FillValue)\n",
    "data[invalid] = np.nan\n",
    "#data = np.ma.masked_where(np.isnan(data), data)\n",
    "    \n",
    "# Get the geolocation data\n",
    "latitude = f['/cell_lat'][:]\n",
    "longitude = f['/cell_lon'][:]"
   ]
  },
  {
   "cell_type": "markdown",
   "id": "d2482697",
   "metadata": {},
   "source": [
    "The spatial coordinate Datasets (EASE2_global_projection, latitude, longitude, x coordinates, y coordinates, row index, and\n",
    "column index) are the same for these five Data Groups and are stored in the HDF5 root Data Group (section 2.2.2). All the\n",
    "HDF5 Datasets within the five Data Groups have LatCell_LonCell_Array shape. The LatCell_LonCell_Array shape\n",
    "describes a two-dimensional array, where each array element represents a specific grid cell in the 9 km global cylindrical\n",
    "EASE-Grid 2.0 as specified by the cell_lat and cell_lon arrays. For example, array element\n",
    "surface_temp(234,789) in the Geophysical Data Group represents the land surface temperature of the grid cell located\n",
    "at cell_lat(234,789) and cell_lon(234,789), where cell_row(234,789)=234 and cell_column (234,789)=789."
   ]
  },
  {
   "cell_type": "code",
   "execution_count": 10,
   "id": "c2b7ac10",
   "metadata": {},
   "outputs": [],
   "source": [
    "#long_name"
   ]
  },
  {
   "cell_type": "code",
   "execution_count": 11,
   "id": "9328bad1",
   "metadata": {
    "scrolled": true
   },
   "outputs": [],
   "source": [
    "#latitude[234][789]"
   ]
  },
  {
   "cell_type": "code",
   "execution_count": 12,
   "id": "da6678e2",
   "metadata": {},
   "outputs": [],
   "source": [
    "#longitude[234][789]"
   ]
  },
  {
   "cell_type": "markdown",
   "id": "f7c0d8e0",
   "metadata": {},
   "source": [
    "This func takes a latitude(or longitude) and returns nearest value avaliable in the dataset, while making sure that we remain in the bounds of the data"
   ]
  },
  {
   "cell_type": "code",
   "execution_count": 13,
   "id": "ec45e0c2",
   "metadata": {},
   "outputs": [],
   "source": [
    "def find_nearest_value(array, x , lower_limit, upper_limit):\n",
    "    \n",
    "    #currently ignoring that only latitudes from 84.xx to -84.xx available in dataset\n",
    "    if(x< lower_limit or x> upper_limit):\n",
    "        raise Exception(\"invalid ip,out of range\") \n",
    "    \n",
    "    # Flatten the 2D latitudes array into a 1D array\n",
    "    flat_array = array.flatten()\n",
    "\n",
    "    # Find the index of the nearest latitude in the 1D array\n",
    "    nearest_index = np.argmin(np.abs(flat_array - x))\n",
    "\n",
    "    # Get the nearest latitude value\n",
    "    nearest_value = flat_array[nearest_index]\n",
    "\n",
    "    return nearest_value"
   ]
  },
  {
   "cell_type": "code",
   "execution_count": 14,
   "id": "b1815d13",
   "metadata": {
    "scrolled": true
   },
   "outputs": [],
   "source": [
    "#find_nearest_value(latitude,45,-90,90)"
   ]
  },
  {
   "cell_type": "markdown",
   "id": "5c85c22c",
   "metadata": {},
   "source": [
    "array_name | dtype | lower_limit | upper_limit | unit"
   ]
  },
  {
   "cell_type": "markdown",
   "id": "00e9bd97",
   "metadata": {},
   "source": [
    "lat_array | Float32 | -90.0 | 90.0 | degrees"
   ]
  },
  {
   "cell_type": "markdown",
   "id": "8547467e",
   "metadata": {},
   "source": [
    "lon_array | Float32 | -180.0 | 179.999 | degrees"
   ]
  },
  {
   "cell_type": "code",
   "execution_count": 15,
   "id": "d2adde4f",
   "metadata": {},
   "outputs": [],
   "source": [
    "def get_value_for_lat_lon(latitude, longitude, lat_matrix, long_matrix, data):\n",
    "    # Find the indices where lat_matrix and long_matrix match the provided latitude and longitude\n",
    "    \n",
    "    latitude = find_nearest_value(array= lat_matrix,\n",
    "                                  x=latitude,\n",
    "                                  lower_limit=-90.0,\n",
    "                                 upper_limit=90.0)\n",
    "    \n",
    "    longitude = find_nearest_value(array= long_matrix,\n",
    "                                  x=longitude,\n",
    "                                  lower_limit=-180.0,\n",
    "                                  upper_limit=179.999)\n",
    "    \n",
    "    indices = np.where((lat_matrix == latitude) & (long_matrix == longitude))\n",
    "\n",
    "    # Check if any matching indices were found\n",
    "    if indices[0].size > 0:\n",
    "        # Get the corresponding value from the 'data' array\n",
    "        value = data[indices[0][0]][indices[1][0]]\n",
    "        return value\n",
    "    else:\n",
    "        # Handle the case when no matching values are found\n",
    "        return None\n"
   ]
  },
  {
   "cell_type": "markdown",
   "id": "31f204f8",
   "metadata": {
    "tags": []
   },
   "source": [
    "# SAMPLE TEST RUN FOR lat, lon = 28.765537, 77.483395 (Muradnagar)"
   ]
  },
  {
   "cell_type": "code",
   "execution_count": 16,
   "id": "64daf64c",
   "metadata": {},
   "outputs": [
    {
     "name": "stdout",
     "output_type": "stream",
     "text": [
      "0.21678248\n"
     ]
    }
   ],
   "source": [
    "print(get_value_for_lat_lon(28.1,77.483395,latitude,longitude,data))"
   ]
  },
  {
   "cell_type": "code",
   "execution_count": null,
   "id": "39c65c88-2afd-492a-8531-86c698fb1627",
   "metadata": {},
   "outputs": [],
   "source": []
  }
 ],
 "metadata": {
  "kernelspec": {
   "display_name": "Python 3 (ipykernel)",
   "language": "python",
   "name": "python3"
  },
  "language_info": {
   "codemirror_mode": {
    "name": "ipython",
    "version": 3
   },
   "file_extension": ".py",
   "mimetype": "text/x-python",
   "name": "python",
   "nbconvert_exporter": "python",
   "pygments_lexer": "ipython3",
   "version": "3.11.5"
  }
 },
 "nbformat": 4,
 "nbformat_minor": 5
}
