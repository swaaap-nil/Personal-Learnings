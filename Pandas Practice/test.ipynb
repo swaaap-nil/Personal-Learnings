{
 "cells": [
  {
   "cell_type": "code",
   "execution_count": 4,
   "id": "93ee2068",
   "metadata": {
    "tags": []
   },
   "outputs": [
    {
     "ename": "ModuleNotFoundError",
     "evalue": "No module named 'transport_co2'",
     "output_type": "error",
     "traceback": [
      "\u001b[0;31m---------------------------------------------------------------------------\u001b[0m",
      "\u001b[0;31mModuleNotFoundError\u001b[0m                       Traceback (most recent call last)",
      "Cell \u001b[0;32mIn[4], line 1\u001b[0m\n\u001b[0;32m----> 1\u001b[0m \u001b[38;5;28;01mfrom\u001b[39;00m \u001b[38;5;21;01mtransport_co2\u001b[39;00m \u001b[38;5;28;01mimport\u001b[39;00m Mode\n\u001b[1;32m      2\u001b[0m \u001b[38;5;28mprint\u001b[39m(\u001b[38;5;28mlist\u001b[39m(Mode))\n",
      "\u001b[0;31mModuleNotFoundError\u001b[0m: No module named 'transport_co2'"
     ]
    }
   ],
   "source": [
    "from transport_co2 import Mode\n",
    "print(list(Mode))"
   ]
  },
  {
   "cell_type": "code",
   "execution_count": null,
   "id": "7d62e0a6-e9f3-4ed3-840a-fc02097ebb46",
   "metadata": {},
   "outputs": [],
   "source": []
  }
 ],
 "metadata": {
  "kernelspec": {
   "display_name": "Python 3 (ipykernel)",
   "language": "python",
   "name": "python3"
  },
  "language_info": {
   "codemirror_mode": {
    "name": "ipython",
    "version": 3
   },
   "file_extension": ".py",
   "mimetype": "text/x-python",
   "name": "python",
   "nbconvert_exporter": "python",
   "pygments_lexer": "ipython3",
   "version": "3.11.5"
  }
 },
 "nbformat": 4,
 "nbformat_minor": 5
}
